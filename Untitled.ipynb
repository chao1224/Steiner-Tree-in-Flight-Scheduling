{
 "cells": [
  {
   "cell_type": "code",
   "execution_count": 1,
   "metadata": {
    "collapsed": false
   },
   "outputs": [
    {
     "name": "stderr",
     "output_type": "stream",
     "text": [
      "INFO: Updating METADATA...\n",
      "INFO: Updating cache of ForwardDiff...\n",
      "INFO: Updating cache of NamedArrays...\n",
      "INFO: Updating cache of JuMP...\n",
      "INFO: Updating cache of Optim...\n",
      "INFO: Updating PyPlot...\n",
      "INFO: Updating PyCall...\n",
      "INFO: Computing changes...\n",
      "INFO: Cloning cache of PositiveFactorizations from git://github.com/timholy/PositiveFactorizations.jl.git\n",
      "INFO: Upgrading ForwardDiff: v0.1.6 => v0.1.7\n",
      "INFO: Upgrading JuMP: v0.12.2 => v0.13.1\n",
      "INFO: Upgrading NamedArrays: v0.4.7 => v0.4.8\n",
      "INFO: Upgrading Optim: v0.4.4 => v0.4.5\n",
      "INFO: Installing PositiveFactorizations v0.0.1\n"
     ]
    }
   ],
   "source": [
    "Pkg.update()"
   ]
  },
  {
   "cell_type": "code",
   "execution_count": null,
   "metadata": {
    "collapsed": true
   },
   "outputs": [],
   "source": []
  }
 ],
 "metadata": {
  "kernelspec": {
   "display_name": "Julia 0.4.3",
   "language": "julia",
   "name": "julia-0.4"
  },
  "language_info": {
   "file_extension": ".jl",
   "mimetype": "application/julia",
   "name": "julia",
   "version": "0.4.3"
  }
 },
 "nbformat": 4,
 "nbformat_minor": 0
}
